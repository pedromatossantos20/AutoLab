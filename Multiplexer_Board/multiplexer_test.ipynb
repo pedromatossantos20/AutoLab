{
 "cells": [
  {
   "cell_type": "code",
   "execution_count": 9,
   "metadata": {},
   "outputs": [],
   "source": [
    "multiplexer.close()"
   ]
  },
  {
   "cell_type": "code",
   "execution_count": 1,
   "metadata": {},
   "outputs": [],
   "source": [
    "import serial\n",
    "import time\n",
    "import os\n",
    "\n",
    "import win32com.client\n",
    "\n",
    "class Multiplexer_Board():\n",
    "\n",
    "    def __init__(self, baudrate=19200, timeout=2000,offline = True):\n",
    "        self.port = self._detect_mcp2200_port()\n",
    "        \n",
    "        if self.port is not None:\n",
    "            self.ser = serial.Serial(\"COM6\", baudrate=baudrate, timeout=timeout)\n",
    "        elif offline == False:\n",
    "            raise Exception(\"MCP2200 device not found\")\n",
    "    \n",
    "    def _detect_mcp2200_port(self):\n",
    "        port_data = os.popen('mode').read()\n",
    "        lines = port_data.split('\\n')\n",
    "\n",
    "        wmi = win32com.client.GetObject (\"winmgmts:\")\n",
    "    \n",
    "        for usb in wmi.InstancesOf (\"Win32_SerialPort\"):\n",
    "            if usb.DeviceID==\"COM6\":\n",
    "                print(\"Found Board\")\n",
    "                return \"COM6\"\n",
    "            print(usb.DeviceID)\n",
    "        else:\n",
    "            return None\n",
    "\n",
    "\n",
    "    def is_open(self):\n",
    "        return self.ser.is_open\n",
    "\n",
    "    def open(self):\n",
    "        if not self.is_open():\n",
    "            self.ser.open()\n",
    "\n",
    "    def close(self):\n",
    "        if self.is_open():\n",
    "            self.ser.close()\n",
    "\n",
    "    def write(self, data):\n",
    "        if self.is_open():\n",
    "            self.ser.write(data)\n",
    "        else:\n",
    "            raise Exception(\"Serial port is not open\")\n",
    "        \n",
    "\n",
    "    def set_channel_to_pin(self,channel,pin):    \n",
    "        pin = self.correct_pin_number(pin)    \n",
    "        print(pin)\n",
    "        pin -= 1\n",
    "        \n",
    "        multiplexer_ID = pin >> 4\n",
    "        effective_pin=pin%16\n",
    "            \n",
    "        # Y0 - Y7\n",
    "        decoded_bits = bin(effective_pin)[2:].zfill(4)[::-1] + bin(0b1111 - (1 << multiplexer_ID))[2:][::-1]\n",
    "\n",
    "        # Start bit + channel + pin + Keep last chip off\n",
    "        data0 = '1' + bin(channel)[2:].zfill(3)[::-1] + decoded_bits[:4]\n",
    "        data1 = '1' + bin(channel)[2:].zfill(3)[::-1] + decoded_bits[4:]\n",
    "\n",
    "        \n",
    "        data = bytearray([int(data0[::-1],2), int(data1[::-1],2)])\n",
    "        \n",
    "        print(data0, '   ', data1, '   ', data)\n",
    "        self.write(data)\n",
    "        return data\n",
    "        #self.write(int(data,2))\n",
    "        #print(\"Setado probe \" + str(probe) + \" to pin \" + str(pin) )\n",
    "    \n",
    "    def set_channel_to_probe(self,channel,probe): #Not working, multipexer isn't latchable\n",
    "        channel_address = format(channel, '03b')   \n",
    "        multiplexer_ID = (0 << 7) + (1 << 6) + (1 << 5) + (1 << 4)\n",
    "        effective_pin=probe\n",
    "\n",
    "        data = '01' + channel_address + format(effective_pin, '04b') + '101' + channel_address + format(multiplexer_ID, '08b')[:4] + '1'\n",
    "        self.write(int(data))\n",
    "        return data\n",
    "    \n",
    "    def set_short_circuit(self): #Not working, multipexer isn't latchable\n",
    "\n",
    "        print(\"Curto-circuitado\")\n",
    "        \n",
    "    def map_sensor_to_pins(self,file=\"None\"):\n",
    "        print(\"Mapeado com sucesso\")\n",
    "        map=[[1,2],[39,40]]\n",
    "        return map\n",
    "    \n",
    "    def correct_pin_number(self,pin):\n",
    "        if pin > 0 and pin < 9:\n",
    "            return pin\n",
    "        elif pin > 8 and pin <17:\n",
    "            return pin\n",
    "        elif pin > 16 and pin <25:\n",
    "            return pin + 16     \n",
    "        elif pin > 24 and pin <33:\n",
    "            return pin - 8\n",
    "        elif pin > 32 and pin <41:\n",
    "            return pin - 8\n",
    "        else:\n",
    "            error_message= \"Invalid Pin Number\"\n",
    "            return (-1, error_message)\n",
    "\n",
    "    def is_open(self):\n",
    "        return self.ser.is_open\n",
    "\n",
    "    def open(self):\n",
    "        if not self.is_open():\n",
    "            self.ser.open()\n",
    "\n",
    "    def close(self):\n",
    "        if self.is_open():\n",
    "            self.ser.close()\n",
    "\n",
    "    def write(self, data):\n",
    "        if self.is_open():\n",
    "            self.ser.write(data)\n",
    "        else:\n",
    "            raise Exception(\"Serial port is not open\")"
   ]
  },
  {
   "cell_type": "code",
   "execution_count": 3,
   "metadata": {},
   "outputs": [
    {
     "name": "stdout",
     "output_type": "stream",
     "text": [
      "Found Board\n"
     ]
    }
   ],
   "source": [
    "multiplexer=Multiplexer_Board(offline=False)\n",
    "\n",
    "\n",
    "#print(type(data))\n",
    "#print(int(data))\n",
    "#print(multiplexer.set_channel_to_pin(4,31))"
   ]
  },
  {
   "cell_type": "code",
   "execution_count": null,
   "metadata": {},
   "outputs": [
    {
     "data": {
      "text/plain": [
       "(35, 4, 3, 2)"
      ]
     },
     "execution_count": 8,
     "metadata": {},
     "output_type": "execute_result"
    }
   ],
   "source": [
    "35,4,3,2"
   ]
  },
  {
   "cell_type": "code",
   "execution_count": 9,
   "metadata": {},
   "outputs": [
    {
     "name": "stdout",
     "output_type": "stream",
     "text": [
      "39\n",
      "10000110     10001101     bytearray(b'a\\xb1')\n",
      "1\n",
      "11000000     11000111     bytearray(b'\\x03\\xe3')\n"
     ]
    },
    {
     "data": {
      "text/plain": [
       "bytearray(b'\\x03\\xe3')"
      ]
     },
     "execution_count": 9,
     "metadata": {},
     "output_type": "execute_result"
    }
   ],
   "source": [
    "multiplexer.set_channel_to_pin(0,23)\n",
    "multiplexer.set_channel_to_pin(1,1)\n",
    "\n",
    "#multiplexer.set_channel_to_probe(0,0)"
   ]
  },
  {
   "cell_type": "code",
   "execution_count": 45,
   "metadata": {},
   "outputs": [],
   "source": [
    "values = bytearray([0b00000001, 0b00000001])\n",
    "multiplexer.write(values)"
   ]
  },
  {
   "cell_type": "code",
   "execution_count": 16,
   "metadata": {},
   "outputs": [
    {
     "name": "stdout",
     "output_type": "stream",
     "text": [
      "6\n"
     ]
    }
   ],
   "source": [
    "a=\"101\"\n",
    "print(int(a,2)+1)"
   ]
  },
  {
   "cell_type": "code",
   "execution_count": 11,
   "metadata": {},
   "outputs": [
    {
     "data": {
      "text/plain": [
       "85"
      ]
     },
     "execution_count": 11,
     "metadata": {},
     "output_type": "execute_result"
    }
   ],
   "source": [
    "0x55"
   ]
  },
  {
   "cell_type": "code",
   "execution_count": null,
   "metadata": {},
   "outputs": [],
   "source": []
  }
 ],
 "metadata": {
  "kernelspec": {
   "display_name": "base",
   "language": "python",
   "name": "python3"
  },
  "language_info": {
   "codemirror_mode": {
    "name": "ipython",
    "version": 3
   },
   "file_extension": ".py",
   "mimetype": "text/x-python",
   "name": "python",
   "nbconvert_exporter": "python",
   "pygments_lexer": "ipython3",
   "version": "3.9.12"
  },
  "orig_nbformat": 4
 },
 "nbformat": 4,
 "nbformat_minor": 2
}
